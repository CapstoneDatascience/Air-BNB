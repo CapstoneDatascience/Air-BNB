{
  "nbformat": 4,
  "nbformat_minor": 0,
  "metadata": {
    "colab": {
      "provenance": [],
      "toc_visible": true
    },
    "kernelspec": {
      "name": "python3",
      "display_name": "Python 3"
    },
    "language_info": {
      "name": "python"
    }
  },
  "cells": [
    {
      "cell_type": "code",
      "source": [
        "import pandas as pd\n",
        "from matplotlib import pyplot as plt\n",
        "from sklearn.model_selection import train_test_split\n",
        "from sklearn.preprocessing import OneHotEncoder, LabelEncoder\n",
        "from sklearn.impute import SimpleImputer"
      ],
      "metadata": {
        "id": "GKlMgKQAMpCb"
      },
      "execution_count": 1,
      "outputs": []
    },
    {
      "cell_type": "code",
      "source": [
        "# Load the dataset\n",
        "airbnb_data = pd.read_csv(r\"/content/new_york_listings_2024.csv\")"
      ],
      "metadata": {
        "id": "rYBGhderMxcA"
      },
      "execution_count": 2,
      "outputs": []
    },
    {
      "cell_type": "code",
      "source": [
        "# Display full list of columns\n",
        "print(\"Columns:\")\n",
        "print(airbnb_data.columns)"
      ],
      "metadata": {
        "colab": {
          "base_uri": "https://localhost:8080/"
        },
        "id": "tP7cewU2Mzp5",
        "outputId": "33fcd9d1-84e3-4372-e578-df8ecde915d6"
      },
      "execution_count": 4,
      "outputs": [
        {
          "output_type": "stream",
          "name": "stdout",
          "text": [
            "Columns:\n",
            "Index(['id', 'name', 'host_id', 'host_name', 'neighbourhood_group',\n",
            "       'neighbourhood', 'latitude', 'longitude', 'room_type', 'price',\n",
            "       'minimum_nights', 'number_of_reviews', 'last_review',\n",
            "       'reviews_per_month', 'calculated_host_listings_count',\n",
            "       'availability_365', 'number_of_reviews_ltm', 'license', 'rating',\n",
            "       'bedrooms', 'beds', 'baths'],\n",
            "      dtype='object')\n"
          ]
        }
      ]
    },
    {
      "cell_type": "code",
      "source": [
        "# Count the number of missing values in each column variable\n",
        "missing_values_per_column = airbnb_data.isnull().sum()\n",
        "\n",
        "# Print the count of missing values in each column variable\n",
        "print(\"Missing Values per Column Variable:\")\n",
        "print(missing_values_per_column)\n"
      ],
      "metadata": {
        "colab": {
          "base_uri": "https://localhost:8080/"
        },
        "id": "hilbvqzRM5aF",
        "outputId": "e0e9d2e4-dba1-4de8-f532-473fd9ebf816"
      },
      "execution_count": 5,
      "outputs": [
        {
          "output_type": "stream",
          "name": "stdout",
          "text": [
            "Missing Values per Column Variable:\n",
            "id                                0\n",
            "name                              0\n",
            "host_id                           0\n",
            "host_name                         0\n",
            "neighbourhood_group               0\n",
            "neighbourhood                     0\n",
            "latitude                          0\n",
            "longitude                         0\n",
            "room_type                         0\n",
            "price                             0\n",
            "minimum_nights                    0\n",
            "number_of_reviews                 0\n",
            "last_review                       0\n",
            "reviews_per_month                 0\n",
            "calculated_host_listings_count    0\n",
            "availability_365                  0\n",
            "number_of_reviews_ltm             0\n",
            "license                           0\n",
            "rating                            0\n",
            "bedrooms                          0\n",
            "beds                              0\n",
            "baths                             0\n",
            "dtype: int64\n"
          ]
        }
      ]
    },
    {
      "cell_type": "code",
      "source": [
        "airbnb_data.info()"
      ],
      "metadata": {
        "colab": {
          "base_uri": "https://localhost:8080/"
        },
        "id": "RjnlNqoPNBVo",
        "outputId": "c578b960-82ea-4b40-b7a8-98f7a91c2215"
      },
      "execution_count": 6,
      "outputs": [
        {
          "output_type": "stream",
          "name": "stdout",
          "text": [
            "<class 'pandas.core.frame.DataFrame'>\n",
            "RangeIndex: 20758 entries, 0 to 20757\n",
            "Data columns (total 22 columns):\n",
            " #   Column                          Non-Null Count  Dtype  \n",
            "---  ------                          --------------  -----  \n",
            " 0   id                              20758 non-null  int64  \n",
            " 1   name                            20758 non-null  object \n",
            " 2   host_id                         20758 non-null  int64  \n",
            " 3   host_name                       20758 non-null  object \n",
            " 4   neighbourhood_group             20758 non-null  object \n",
            " 5   neighbourhood                   20758 non-null  object \n",
            " 6   latitude                        20758 non-null  float64\n",
            " 7   longitude                       20758 non-null  float64\n",
            " 8   room_type                       20758 non-null  object \n",
            " 9   price                           20758 non-null  float64\n",
            " 10  minimum_nights                  20758 non-null  int64  \n",
            " 11  number_of_reviews               20758 non-null  int64  \n",
            " 12  last_review                     20758 non-null  object \n",
            " 13  reviews_per_month               20758 non-null  float64\n",
            " 14  calculated_host_listings_count  20758 non-null  int64  \n",
            " 15  availability_365                20758 non-null  int64  \n",
            " 16  number_of_reviews_ltm           20758 non-null  int64  \n",
            " 17  license                         20758 non-null  object \n",
            " 18  rating                          20758 non-null  object \n",
            " 19  bedrooms                        20758 non-null  object \n",
            " 20  beds                            20758 non-null  int64  \n",
            " 21  baths                           20758 non-null  object \n",
            "dtypes: float64(4), int64(8), object(10)\n",
            "memory usage: 3.5+ MB\n"
          ]
        }
      ]
    },
    {
      "cell_type": "code",
      "source": [
        "airbnb_data.describe().T"
      ],
      "metadata": {
        "colab": {
          "base_uri": "https://localhost:8080/",
          "height": 425
        },
        "id": "9vERV5M-NC3z",
        "outputId": "78d5b7ca-f8a8-48a8-dfcb-588613393b4e"
      },
      "execution_count": 7,
      "outputs": [
        {
          "output_type": "execute_result",
          "data": {
            "text/plain": [
              "                                  count          mean           std  \\\n",
              "id                              20758.0  3.034044e+17  3.901216e+17   \n",
              "host_id                         20758.0  1.749316e+08  1.725541e+08   \n",
              "latitude                        20758.0  4.072680e+01  6.029351e-02   \n",
              "longitude                       20758.0 -7.393916e+01  6.140306e-02   \n",
              "price                           20758.0  1.877766e+02  1.022797e+03   \n",
              "minimum_nights                  20758.0  2.855844e+01  3.353652e+01   \n",
              "number_of_reviews               20758.0  4.264260e+01  7.356165e+01   \n",
              "reviews_per_month               20758.0  1.257910e+00  1.904661e+00   \n",
              "calculated_host_listings_count  20758.0  1.884411e+01  7.091083e+01   \n",
              "availability_365                20758.0  2.059903e+02  1.350878e+02   \n",
              "number_of_reviews_ltm           20758.0  1.085211e+01  2.135707e+01   \n",
              "beds                            20758.0  1.723721e+00  1.212272e+00   \n",
              "\n",
              "                                        min           25%           50%  \\\n",
              "id                              2595.000000  2.708808e+07  4.993003e+07   \n",
              "host_id                         1678.000000  2.041738e+07  1.087271e+08   \n",
              "latitude                          40.500314  4.068415e+01  4.072282e+01   \n",
              "longitude                        -74.249840 -7.398071e+01 -7.394959e+01   \n",
              "price                             10.000000  8.000000e+01  1.250000e+02   \n",
              "minimum_nights                     1.000000  3.000000e+01  3.000000e+01   \n",
              "number_of_reviews                  1.000000  4.000000e+00  1.400000e+01   \n",
              "reviews_per_month                  0.010000  2.100000e-01  6.500000e-01   \n",
              "calculated_host_listings_count     1.000000  1.000000e+00  2.000000e+00   \n",
              "availability_365                   0.000000  8.700000e+01  2.150000e+02   \n",
              "number_of_reviews_ltm              0.000000  1.000000e+00  3.000000e+00   \n",
              "beds                               1.000000  1.000000e+00  1.000000e+00   \n",
              "\n",
              "                                         75%           max  \n",
              "id                              7.216019e+17  1.054376e+18  \n",
              "host_id                         3.144102e+08  5.504035e+08  \n",
              "latitude                        4.076310e+01  4.091115e+01  \n",
              "longitude                      -7.391746e+01 -7.371365e+01  \n",
              "price                           1.990000e+02  1.000000e+05  \n",
              "minimum_nights                  3.000000e+01  1.250000e+03  \n",
              "number_of_reviews               4.900000e+01  1.865000e+03  \n",
              "reviews_per_month               1.800000e+00  7.549000e+01  \n",
              "calculated_host_listings_count  5.000000e+00  7.130000e+02  \n",
              "availability_365                3.530000e+02  3.650000e+02  \n",
              "number_of_reviews_ltm           1.500000e+01  1.075000e+03  \n",
              "beds                            2.000000e+00  4.200000e+01  "
            ],
            "text/html": [
              "\n",
              "  <div id=\"df-1e0e20ad-afcd-46b2-bb38-4a18c5c177fe\" class=\"colab-df-container\">\n",
              "    <div>\n",
              "<style scoped>\n",
              "    .dataframe tbody tr th:only-of-type {\n",
              "        vertical-align: middle;\n",
              "    }\n",
              "\n",
              "    .dataframe tbody tr th {\n",
              "        vertical-align: top;\n",
              "    }\n",
              "\n",
              "    .dataframe thead th {\n",
              "        text-align: right;\n",
              "    }\n",
              "</style>\n",
              "<table border=\"1\" class=\"dataframe\">\n",
              "  <thead>\n",
              "    <tr style=\"text-align: right;\">\n",
              "      <th></th>\n",
              "      <th>count</th>\n",
              "      <th>mean</th>\n",
              "      <th>std</th>\n",
              "      <th>min</th>\n",
              "      <th>25%</th>\n",
              "      <th>50%</th>\n",
              "      <th>75%</th>\n",
              "      <th>max</th>\n",
              "    </tr>\n",
              "  </thead>\n",
              "  <tbody>\n",
              "    <tr>\n",
              "      <th>id</th>\n",
              "      <td>20758.0</td>\n",
              "      <td>3.034044e+17</td>\n",
              "      <td>3.901216e+17</td>\n",
              "      <td>2595.000000</td>\n",
              "      <td>2.708808e+07</td>\n",
              "      <td>4.993003e+07</td>\n",
              "      <td>7.216019e+17</td>\n",
              "      <td>1.054376e+18</td>\n",
              "    </tr>\n",
              "    <tr>\n",
              "      <th>host_id</th>\n",
              "      <td>20758.0</td>\n",
              "      <td>1.749316e+08</td>\n",
              "      <td>1.725541e+08</td>\n",
              "      <td>1678.000000</td>\n",
              "      <td>2.041738e+07</td>\n",
              "      <td>1.087271e+08</td>\n",
              "      <td>3.144102e+08</td>\n",
              "      <td>5.504035e+08</td>\n",
              "    </tr>\n",
              "    <tr>\n",
              "      <th>latitude</th>\n",
              "      <td>20758.0</td>\n",
              "      <td>4.072680e+01</td>\n",
              "      <td>6.029351e-02</td>\n",
              "      <td>40.500314</td>\n",
              "      <td>4.068415e+01</td>\n",
              "      <td>4.072282e+01</td>\n",
              "      <td>4.076310e+01</td>\n",
              "      <td>4.091115e+01</td>\n",
              "    </tr>\n",
              "    <tr>\n",
              "      <th>longitude</th>\n",
              "      <td>20758.0</td>\n",
              "      <td>-7.393916e+01</td>\n",
              "      <td>6.140306e-02</td>\n",
              "      <td>-74.249840</td>\n",
              "      <td>-7.398071e+01</td>\n",
              "      <td>-7.394959e+01</td>\n",
              "      <td>-7.391746e+01</td>\n",
              "      <td>-7.371365e+01</td>\n",
              "    </tr>\n",
              "    <tr>\n",
              "      <th>price</th>\n",
              "      <td>20758.0</td>\n",
              "      <td>1.877766e+02</td>\n",
              "      <td>1.022797e+03</td>\n",
              "      <td>10.000000</td>\n",
              "      <td>8.000000e+01</td>\n",
              "      <td>1.250000e+02</td>\n",
              "      <td>1.990000e+02</td>\n",
              "      <td>1.000000e+05</td>\n",
              "    </tr>\n",
              "    <tr>\n",
              "      <th>minimum_nights</th>\n",
              "      <td>20758.0</td>\n",
              "      <td>2.855844e+01</td>\n",
              "      <td>3.353652e+01</td>\n",
              "      <td>1.000000</td>\n",
              "      <td>3.000000e+01</td>\n",
              "      <td>3.000000e+01</td>\n",
              "      <td>3.000000e+01</td>\n",
              "      <td>1.250000e+03</td>\n",
              "    </tr>\n",
              "    <tr>\n",
              "      <th>number_of_reviews</th>\n",
              "      <td>20758.0</td>\n",
              "      <td>4.264260e+01</td>\n",
              "      <td>7.356165e+01</td>\n",
              "      <td>1.000000</td>\n",
              "      <td>4.000000e+00</td>\n",
              "      <td>1.400000e+01</td>\n",
              "      <td>4.900000e+01</td>\n",
              "      <td>1.865000e+03</td>\n",
              "    </tr>\n",
              "    <tr>\n",
              "      <th>reviews_per_month</th>\n",
              "      <td>20758.0</td>\n",
              "      <td>1.257910e+00</td>\n",
              "      <td>1.904661e+00</td>\n",
              "      <td>0.010000</td>\n",
              "      <td>2.100000e-01</td>\n",
              "      <td>6.500000e-01</td>\n",
              "      <td>1.800000e+00</td>\n",
              "      <td>7.549000e+01</td>\n",
              "    </tr>\n",
              "    <tr>\n",
              "      <th>calculated_host_listings_count</th>\n",
              "      <td>20758.0</td>\n",
              "      <td>1.884411e+01</td>\n",
              "      <td>7.091083e+01</td>\n",
              "      <td>1.000000</td>\n",
              "      <td>1.000000e+00</td>\n",
              "      <td>2.000000e+00</td>\n",
              "      <td>5.000000e+00</td>\n",
              "      <td>7.130000e+02</td>\n",
              "    </tr>\n",
              "    <tr>\n",
              "      <th>availability_365</th>\n",
              "      <td>20758.0</td>\n",
              "      <td>2.059903e+02</td>\n",
              "      <td>1.350878e+02</td>\n",
              "      <td>0.000000</td>\n",
              "      <td>8.700000e+01</td>\n",
              "      <td>2.150000e+02</td>\n",
              "      <td>3.530000e+02</td>\n",
              "      <td>3.650000e+02</td>\n",
              "    </tr>\n",
              "    <tr>\n",
              "      <th>number_of_reviews_ltm</th>\n",
              "      <td>20758.0</td>\n",
              "      <td>1.085211e+01</td>\n",
              "      <td>2.135707e+01</td>\n",
              "      <td>0.000000</td>\n",
              "      <td>1.000000e+00</td>\n",
              "      <td>3.000000e+00</td>\n",
              "      <td>1.500000e+01</td>\n",
              "      <td>1.075000e+03</td>\n",
              "    </tr>\n",
              "    <tr>\n",
              "      <th>beds</th>\n",
              "      <td>20758.0</td>\n",
              "      <td>1.723721e+00</td>\n",
              "      <td>1.212272e+00</td>\n",
              "      <td>1.000000</td>\n",
              "      <td>1.000000e+00</td>\n",
              "      <td>1.000000e+00</td>\n",
              "      <td>2.000000e+00</td>\n",
              "      <td>4.200000e+01</td>\n",
              "    </tr>\n",
              "  </tbody>\n",
              "</table>\n",
              "</div>\n",
              "    <div class=\"colab-df-buttons\">\n",
              "\n",
              "  <div class=\"colab-df-container\">\n",
              "    <button class=\"colab-df-convert\" onclick=\"convertToInteractive('df-1e0e20ad-afcd-46b2-bb38-4a18c5c177fe')\"\n",
              "            title=\"Convert this dataframe to an interactive table.\"\n",
              "            style=\"display:none;\">\n",
              "\n",
              "  <svg xmlns=\"http://www.w3.org/2000/svg\" height=\"24px\" viewBox=\"0 -960 960 960\">\n",
              "    <path d=\"M120-120v-720h720v720H120Zm60-500h600v-160H180v160Zm220 220h160v-160H400v160Zm0 220h160v-160H400v160ZM180-400h160v-160H180v160Zm440 0h160v-160H620v160ZM180-180h160v-160H180v160Zm440 0h160v-160H620v160Z\"/>\n",
              "  </svg>\n",
              "    </button>\n",
              "\n",
              "  <style>\n",
              "    .colab-df-container {\n",
              "      display:flex;\n",
              "      gap: 12px;\n",
              "    }\n",
              "\n",
              "    .colab-df-convert {\n",
              "      background-color: #E8F0FE;\n",
              "      border: none;\n",
              "      border-radius: 50%;\n",
              "      cursor: pointer;\n",
              "      display: none;\n",
              "      fill: #1967D2;\n",
              "      height: 32px;\n",
              "      padding: 0 0 0 0;\n",
              "      width: 32px;\n",
              "    }\n",
              "\n",
              "    .colab-df-convert:hover {\n",
              "      background-color: #E2EBFA;\n",
              "      box-shadow: 0px 1px 2px rgba(60, 64, 67, 0.3), 0px 1px 3px 1px rgba(60, 64, 67, 0.15);\n",
              "      fill: #174EA6;\n",
              "    }\n",
              "\n",
              "    .colab-df-buttons div {\n",
              "      margin-bottom: 4px;\n",
              "    }\n",
              "\n",
              "    [theme=dark] .colab-df-convert {\n",
              "      background-color: #3B4455;\n",
              "      fill: #D2E3FC;\n",
              "    }\n",
              "\n",
              "    [theme=dark] .colab-df-convert:hover {\n",
              "      background-color: #434B5C;\n",
              "      box-shadow: 0px 1px 3px 1px rgba(0, 0, 0, 0.15);\n",
              "      filter: drop-shadow(0px 1px 2px rgba(0, 0, 0, 0.3));\n",
              "      fill: #FFFFFF;\n",
              "    }\n",
              "  </style>\n",
              "\n",
              "    <script>\n",
              "      const buttonEl =\n",
              "        document.querySelector('#df-1e0e20ad-afcd-46b2-bb38-4a18c5c177fe button.colab-df-convert');\n",
              "      buttonEl.style.display =\n",
              "        google.colab.kernel.accessAllowed ? 'block' : 'none';\n",
              "\n",
              "      async function convertToInteractive(key) {\n",
              "        const element = document.querySelector('#df-1e0e20ad-afcd-46b2-bb38-4a18c5c177fe');\n",
              "        const dataTable =\n",
              "          await google.colab.kernel.invokeFunction('convertToInteractive',\n",
              "                                                    [key], {});\n",
              "        if (!dataTable) return;\n",
              "\n",
              "        const docLinkHtml = 'Like what you see? Visit the ' +\n",
              "          '<a target=\"_blank\" href=https://colab.research.google.com/notebooks/data_table.ipynb>data table notebook</a>'\n",
              "          + ' to learn more about interactive tables.';\n",
              "        element.innerHTML = '';\n",
              "        dataTable['output_type'] = 'display_data';\n",
              "        await google.colab.output.renderOutput(dataTable, element);\n",
              "        const docLink = document.createElement('div');\n",
              "        docLink.innerHTML = docLinkHtml;\n",
              "        element.appendChild(docLink);\n",
              "      }\n",
              "    </script>\n",
              "  </div>\n",
              "\n",
              "\n",
              "<div id=\"df-d3fbb880-5964-42de-a1c2-f705fcffd8c8\">\n",
              "  <button class=\"colab-df-quickchart\" onclick=\"quickchart('df-d3fbb880-5964-42de-a1c2-f705fcffd8c8')\"\n",
              "            title=\"Suggest charts\"\n",
              "            style=\"display:none;\">\n",
              "\n",
              "<svg xmlns=\"http://www.w3.org/2000/svg\" height=\"24px\"viewBox=\"0 0 24 24\"\n",
              "     width=\"24px\">\n",
              "    <g>\n",
              "        <path d=\"M19 3H5c-1.1 0-2 .9-2 2v14c0 1.1.9 2 2 2h14c1.1 0 2-.9 2-2V5c0-1.1-.9-2-2-2zM9 17H7v-7h2v7zm4 0h-2V7h2v10zm4 0h-2v-4h2v4z\"/>\n",
              "    </g>\n",
              "</svg>\n",
              "  </button>\n",
              "\n",
              "<style>\n",
              "  .colab-df-quickchart {\n",
              "      --bg-color: #E8F0FE;\n",
              "      --fill-color: #1967D2;\n",
              "      --hover-bg-color: #E2EBFA;\n",
              "      --hover-fill-color: #174EA6;\n",
              "      --disabled-fill-color: #AAA;\n",
              "      --disabled-bg-color: #DDD;\n",
              "  }\n",
              "\n",
              "  [theme=dark] .colab-df-quickchart {\n",
              "      --bg-color: #3B4455;\n",
              "      --fill-color: #D2E3FC;\n",
              "      --hover-bg-color: #434B5C;\n",
              "      --hover-fill-color: #FFFFFF;\n",
              "      --disabled-bg-color: #3B4455;\n",
              "      --disabled-fill-color: #666;\n",
              "  }\n",
              "\n",
              "  .colab-df-quickchart {\n",
              "    background-color: var(--bg-color);\n",
              "    border: none;\n",
              "    border-radius: 50%;\n",
              "    cursor: pointer;\n",
              "    display: none;\n",
              "    fill: var(--fill-color);\n",
              "    height: 32px;\n",
              "    padding: 0;\n",
              "    width: 32px;\n",
              "  }\n",
              "\n",
              "  .colab-df-quickchart:hover {\n",
              "    background-color: var(--hover-bg-color);\n",
              "    box-shadow: 0 1px 2px rgba(60, 64, 67, 0.3), 0 1px 3px 1px rgba(60, 64, 67, 0.15);\n",
              "    fill: var(--button-hover-fill-color);\n",
              "  }\n",
              "\n",
              "  .colab-df-quickchart-complete:disabled,\n",
              "  .colab-df-quickchart-complete:disabled:hover {\n",
              "    background-color: var(--disabled-bg-color);\n",
              "    fill: var(--disabled-fill-color);\n",
              "    box-shadow: none;\n",
              "  }\n",
              "\n",
              "  .colab-df-spinner {\n",
              "    border: 2px solid var(--fill-color);\n",
              "    border-color: transparent;\n",
              "    border-bottom-color: var(--fill-color);\n",
              "    animation:\n",
              "      spin 1s steps(1) infinite;\n",
              "  }\n",
              "\n",
              "  @keyframes spin {\n",
              "    0% {\n",
              "      border-color: transparent;\n",
              "      border-bottom-color: var(--fill-color);\n",
              "      border-left-color: var(--fill-color);\n",
              "    }\n",
              "    20% {\n",
              "      border-color: transparent;\n",
              "      border-left-color: var(--fill-color);\n",
              "      border-top-color: var(--fill-color);\n",
              "    }\n",
              "    30% {\n",
              "      border-color: transparent;\n",
              "      border-left-color: var(--fill-color);\n",
              "      border-top-color: var(--fill-color);\n",
              "      border-right-color: var(--fill-color);\n",
              "    }\n",
              "    40% {\n",
              "      border-color: transparent;\n",
              "      border-right-color: var(--fill-color);\n",
              "      border-top-color: var(--fill-color);\n",
              "    }\n",
              "    60% {\n",
              "      border-color: transparent;\n",
              "      border-right-color: var(--fill-color);\n",
              "    }\n",
              "    80% {\n",
              "      border-color: transparent;\n",
              "      border-right-color: var(--fill-color);\n",
              "      border-bottom-color: var(--fill-color);\n",
              "    }\n",
              "    90% {\n",
              "      border-color: transparent;\n",
              "      border-bottom-color: var(--fill-color);\n",
              "    }\n",
              "  }\n",
              "</style>\n",
              "\n",
              "  <script>\n",
              "    async function quickchart(key) {\n",
              "      const quickchartButtonEl =\n",
              "        document.querySelector('#' + key + ' button');\n",
              "      quickchartButtonEl.disabled = true;  // To prevent multiple clicks.\n",
              "      quickchartButtonEl.classList.add('colab-df-spinner');\n",
              "      try {\n",
              "        const charts = await google.colab.kernel.invokeFunction(\n",
              "            'suggestCharts', [key], {});\n",
              "      } catch (error) {\n",
              "        console.error('Error during call to suggestCharts:', error);\n",
              "      }\n",
              "      quickchartButtonEl.classList.remove('colab-df-spinner');\n",
              "      quickchartButtonEl.classList.add('colab-df-quickchart-complete');\n",
              "    }\n",
              "    (() => {\n",
              "      let quickchartButtonEl =\n",
              "        document.querySelector('#df-d3fbb880-5964-42de-a1c2-f705fcffd8c8 button');\n",
              "      quickchartButtonEl.style.display =\n",
              "        google.colab.kernel.accessAllowed ? 'block' : 'none';\n",
              "    })();\n",
              "  </script>\n",
              "</div>\n",
              "\n",
              "    </div>\n",
              "  </div>\n"
            ],
            "application/vnd.google.colaboratory.intrinsic+json": {
              "type": "dataframe",
              "summary": "{\n  \"name\": \"airbnb_data\",\n  \"rows\": 12,\n  \"fields\": [\n    {\n      \"column\": \"count\",\n      \"properties\": {\n        \"dtype\": \"number\",\n        \"std\": 0.0,\n        \"min\": 20758.0,\n        \"max\": 20758.0,\n        \"num_unique_values\": 1,\n        \"samples\": [\n          20758.0\n        ],\n        \"semantic_type\": \"\",\n        \"description\": \"\"\n      }\n    },\n    {\n      \"column\": \"mean\",\n      \"properties\": {\n        \"dtype\": \"number\",\n        \"std\": 8.758530218404202e+16,\n        \"min\": -73.93916133554451,\n        \"max\": 3.0340438677397114e+17,\n        \"num_unique_values\": 12,\n        \"samples\": [\n          10.852105212448214\n        ],\n        \"semantic_type\": \"\",\n        \"description\": \"\"\n      }\n    },\n    {\n      \"column\": \"std\",\n      \"properties\": {\n        \"dtype\": \"number\",\n        \"std\": 1.1261839368632738e+17,\n        \"min\": 0.06029350712687669,\n        \"max\": 3.90121559478713e+17,\n        \"num_unique_values\": 12,\n        \"samples\": [\n          21.35707110869989\n        ],\n        \"semantic_type\": \"\",\n        \"description\": \"\"\n      }\n    },\n    {\n      \"column\": \"min\",\n      \"properties\": {\n        \"dtype\": \"number\",\n        \"std\": 855.4343709144706,\n        \"min\": -74.24984,\n        \"max\": 2595.0,\n        \"num_unique_values\": 8,\n        \"samples\": [\n          1678.0\n        ],\n        \"semantic_type\": \"\",\n        \"description\": \"\"\n      }\n    },\n    {\n      \"column\": \"25%\",\n      \"properties\": {\n        \"dtype\": \"number\",\n        \"std\": 9354474.953730576,\n        \"min\": -73.98071,\n        \"max\": 27088080.0,\n        \"num_unique_values\": 10,\n        \"samples\": [\n          1.0\n        ],\n        \"semantic_type\": \"\",\n        \"description\": \"\"\n      }\n    },\n    {\n      \"column\": \"50%\",\n      \"properties\": {\n        \"dtype\": \"number\",\n        \"std\": 33326090.205323305,\n        \"min\": -73.94958715,\n        \"max\": 108727121.0,\n        \"num_unique_values\": 12,\n        \"samples\": [\n          3.0\n        ],\n        \"semantic_type\": \"\",\n        \"description\": \"\"\n      }\n    },\n    {\n      \"column\": \"75%\",\n      \"properties\": {\n        \"dtype\": \"number\",\n        \"std\": 2.0830852242112374e+17,\n        \"min\": -73.917460125,\n        \"max\": 7.216018889945567e+17,\n        \"num_unique_values\": 12,\n        \"samples\": [\n          15.0\n        ],\n        \"semantic_type\": \"\",\n        \"description\": \"\"\n      }\n    },\n    {\n      \"column\": \"max\",\n      \"properties\": {\n        \"dtype\": \"number\",\n        \"std\": 3.043719946947471e+17,\n        \"min\": -73.71365,\n        \"max\": 1.0543755184748196e+18,\n        \"num_unique_values\": 12,\n        \"samples\": [\n          1075.0\n        ],\n        \"semantic_type\": \"\",\n        \"description\": \"\"\n      }\n    }\n  ]\n}"
            }
          },
          "metadata": {},
          "execution_count": 7
        }
      ]
    },
    {
      "cell_type": "code",
      "source": [
        "print(airbnb_data.columns)"
      ],
      "metadata": {
        "colab": {
          "base_uri": "https://localhost:8080/"
        },
        "id": "fiV47C17X_w1",
        "outputId": "159b31d0-1f92-44c0-ca88-133e9738bd6e"
      },
      "execution_count": 104,
      "outputs": [
        {
          "output_type": "stream",
          "name": "stdout",
          "text": [
            "Index(['id', 'neighbourhood', 'room_type', 'price', 'rating', 'bedrooms',\n",
            "       'beds', 'baths', 'log10_minimum_nights', 'log10_number_of_reviews',\n",
            "       'log10_calculated_host_listings_count', 'log10_availability_365'],\n",
            "      dtype='object')\n"
          ]
        }
      ]
    },
    {
      "cell_type": "code",
      "source": [
        "import numpy as np\n",
        "!pip install feature-engine\n",
        "import ast\n",
        "import re\n",
        "import numpy as np  # Import NumPy for handling numerical operations\n",
        "import pandas as pd  # Import Pandas for data manipulation and analysis\n",
        "import warnings  # Import Warnings to suppress unnecessary warnings\n",
        "# Import RareLabelEncoder from feature_engine.encoding for encoding categorical features\n",
        "from feature_engine.encoding import RareLabelEncoder\n",
        "\n",
        "# Set Pandas options to display a maximum of 1000 rows\n",
        "pd.set_option('display.max_rows', 1000)\n",
        "# Load the dataset\n",
        "airbnb_data = pd.read_csv(r\"/content/new_york_listings_2024.csv\")\n",
        "\n",
        "main_label = 'price'\n",
        "# Exclude 1% of smallest and 1% of highest prices\n",
        "P = np.percentile(airbnb_data[main_label], [1, 99])\n",
        "airbnb_data = airbnb_data[(airbnb_data[main_label] > P[0]) & (airbnb_data[main_label] < P[1])]\n",
        "# log10-transform columns and group for larger bins\n",
        "for col in ['minimum_nights', 'number_of_reviews', 'calculated_host_listings_count', 'availability_365']:\n",
        "    airbnb_data[f'log10_{col}'] = airbnb_data[col].apply(lambda x: 1/5*round(5*np.log10(1+x)))\n",
        "    airbnb_data = airbnb_data.drop([col], axis=1)\n",
        "# set up the rare label encoder limiting number of categories to max_n_categories\n",
        "for col in ['neighbourhood', 'room_type']:\n",
        "    encoder = RareLabelEncoder(n_categories=1, max_n_categories=120, replace_with='Other', tol=20/airbnb_data.shape[0])\n",
        "    airbnb_data[col] = encoder.fit_transform(airbnb_data[[col]])\n",
        "# drop unused columns\n",
        "cols2drop = ['name', 'host_id', 'host_name', 'latitude', 'longitude', 'license', 'neighbourhood_group',\n",
        "             'last_review', 'reviews_per_month', 'number_of_reviews_ltm']\n",
        "airbnb_data= airbnb_data.drop(cols2drop, axis=1)\n",
        "print(airbnb_data.shape)\n",
        "airbnb_data.sample(5).T"
      ],
      "metadata": {
        "colab": {
          "base_uri": "https://localhost:8080/",
          "height": 686
        },
        "id": "TgfjHS9mQEgZ",
        "outputId": "9016d8d4-225c-41f4-f197-3effacde7013"
      },
      "execution_count": 2,
      "outputs": [
        {
          "output_type": "stream",
          "name": "stdout",
          "text": [
            "Requirement already satisfied: feature-engine in /usr/local/lib/python3.10/dist-packages (1.7.0)\n",
            "Requirement already satisfied: numpy>=1.18.2 in /usr/local/lib/python3.10/dist-packages (from feature-engine) (1.25.2)\n",
            "Requirement already satisfied: pandas>=2.2.0 in /usr/local/lib/python3.10/dist-packages (from feature-engine) (2.2.1)\n",
            "Requirement already satisfied: scikit-learn>=1.4.0 in /usr/local/lib/python3.10/dist-packages (from feature-engine) (1.4.1.post1)\n",
            "Requirement already satisfied: scipy>=1.4.1 in /usr/local/lib/python3.10/dist-packages (from feature-engine) (1.11.4)\n",
            "Requirement already satisfied: statsmodels>=0.11.1 in /usr/local/lib/python3.10/dist-packages (from feature-engine) (0.14.1)\n",
            "Requirement already satisfied: python-dateutil>=2.8.2 in /usr/local/lib/python3.10/dist-packages (from pandas>=2.2.0->feature-engine) (2.8.2)\n",
            "Requirement already satisfied: pytz>=2020.1 in /usr/local/lib/python3.10/dist-packages (from pandas>=2.2.0->feature-engine) (2023.4)\n",
            "Requirement already satisfied: tzdata>=2022.7 in /usr/local/lib/python3.10/dist-packages (from pandas>=2.2.0->feature-engine) (2024.1)\n",
            "Requirement already satisfied: joblib>=1.2.0 in /usr/local/lib/python3.10/dist-packages (from scikit-learn>=1.4.0->feature-engine) (1.3.2)\n",
            "Requirement already satisfied: threadpoolctl>=2.0.0 in /usr/local/lib/python3.10/dist-packages (from scikit-learn>=1.4.0->feature-engine) (3.3.0)\n",
            "Requirement already satisfied: patsy>=0.5.4 in /usr/local/lib/python3.10/dist-packages (from statsmodels>=0.11.1->feature-engine) (0.5.6)\n",
            "Requirement already satisfied: packaging>=21.3 in /usr/local/lib/python3.10/dist-packages (from statsmodels>=0.11.1->feature-engine) (24.0)\n",
            "Requirement already satisfied: six in /usr/local/lib/python3.10/dist-packages (from patsy>=0.5.4->statsmodels>=0.11.1->feature-engine) (1.16.0)\n",
            "(20300, 12)\n"
          ]
        },
        {
          "output_type": "execute_result",
          "data": {
            "text/plain": [
              "                                                10349               9406   \\\n",
              "id                                           30279712  702914813859077943   \n",
              "neighbourhood                             Brownsville  Bedford-Stuyvesant   \n",
              "room_type                             Entire home/apt     Entire home/apt   \n",
              "price                                           123.0               250.0   \n",
              "rating                                          4.89            No rating   \n",
              "bedrooms                                            1                   1   \n",
              "beds                                                1                   1   \n",
              "baths                                               1                   2   \n",
              "log10_minimum_nights                              1.4                 1.4   \n",
              "log10_number_of_reviews                           2.0                 0.4   \n",
              "log10_calculated_host_listings_count              0.4                 0.4   \n",
              "log10_availability_365                            2.6                 2.2   \n",
              "\n",
              "                                                   12437               9417   \\\n",
              "id                                               7711899  749089594249468672   \n",
              "neighbourhood                         Washington Heights  Bedford-Stuyvesant   \n",
              "room_type                                    Shared room     Entire home/apt   \n",
              "price                                               43.0               145.0   \n",
              "rating                                             4.53                4.67    \n",
              "bedrooms                                               1                   2   \n",
              "beds                                                   1                   2   \n",
              "baths                                                  1                   1   \n",
              "log10_minimum_nights                                 1.4                 1.4   \n",
              "log10_number_of_reviews                              1.2                 0.8   \n",
              "log10_calculated_host_listings_count                 0.4                 0.4   \n",
              "log10_availability_365                               2.6                 2.6   \n",
              "\n",
              "                                                   15417  \n",
              "id                                    613747202944317309  \n",
              "neighbourhood                          Flatiron District  \n",
              "room_type                                   Private room  \n",
              "price                                              156.0  \n",
              "rating                                             4.54   \n",
              "bedrooms                                          Studio  \n",
              "beds                                                   1  \n",
              "baths                                                  1  \n",
              "log10_minimum_nights                                 0.4  \n",
              "log10_number_of_reviews                              1.4  \n",
              "log10_calculated_host_listings_count                 2.0  \n",
              "log10_availability_365                               2.4  "
            ],
            "text/html": [
              "\n",
              "  <div id=\"df-b8d3c962-2d0e-4f28-b387-6aa9f23285ca\" class=\"colab-df-container\">\n",
              "    <div>\n",
              "<style scoped>\n",
              "    .dataframe tbody tr th:only-of-type {\n",
              "        vertical-align: middle;\n",
              "    }\n",
              "\n",
              "    .dataframe tbody tr th {\n",
              "        vertical-align: top;\n",
              "    }\n",
              "\n",
              "    .dataframe thead th {\n",
              "        text-align: right;\n",
              "    }\n",
              "</style>\n",
              "<table border=\"1\" class=\"dataframe\">\n",
              "  <thead>\n",
              "    <tr style=\"text-align: right;\">\n",
              "      <th></th>\n",
              "      <th>10349</th>\n",
              "      <th>9406</th>\n",
              "      <th>12437</th>\n",
              "      <th>9417</th>\n",
              "      <th>15417</th>\n",
              "    </tr>\n",
              "  </thead>\n",
              "  <tbody>\n",
              "    <tr>\n",
              "      <th>id</th>\n",
              "      <td>30279712</td>\n",
              "      <td>702914813859077943</td>\n",
              "      <td>7711899</td>\n",
              "      <td>749089594249468672</td>\n",
              "      <td>613747202944317309</td>\n",
              "    </tr>\n",
              "    <tr>\n",
              "      <th>neighbourhood</th>\n",
              "      <td>Brownsville</td>\n",
              "      <td>Bedford-Stuyvesant</td>\n",
              "      <td>Washington Heights</td>\n",
              "      <td>Bedford-Stuyvesant</td>\n",
              "      <td>Flatiron District</td>\n",
              "    </tr>\n",
              "    <tr>\n",
              "      <th>room_type</th>\n",
              "      <td>Entire home/apt</td>\n",
              "      <td>Entire home/apt</td>\n",
              "      <td>Shared room</td>\n",
              "      <td>Entire home/apt</td>\n",
              "      <td>Private room</td>\n",
              "    </tr>\n",
              "    <tr>\n",
              "      <th>price</th>\n",
              "      <td>123.0</td>\n",
              "      <td>250.0</td>\n",
              "      <td>43.0</td>\n",
              "      <td>145.0</td>\n",
              "      <td>156.0</td>\n",
              "    </tr>\n",
              "    <tr>\n",
              "      <th>rating</th>\n",
              "      <td>4.89</td>\n",
              "      <td>No rating</td>\n",
              "      <td>4.53</td>\n",
              "      <td>4.67</td>\n",
              "      <td>4.54</td>\n",
              "    </tr>\n",
              "    <tr>\n",
              "      <th>bedrooms</th>\n",
              "      <td>1</td>\n",
              "      <td>1</td>\n",
              "      <td>1</td>\n",
              "      <td>2</td>\n",
              "      <td>Studio</td>\n",
              "    </tr>\n",
              "    <tr>\n",
              "      <th>beds</th>\n",
              "      <td>1</td>\n",
              "      <td>1</td>\n",
              "      <td>1</td>\n",
              "      <td>2</td>\n",
              "      <td>1</td>\n",
              "    </tr>\n",
              "    <tr>\n",
              "      <th>baths</th>\n",
              "      <td>1</td>\n",
              "      <td>2</td>\n",
              "      <td>1</td>\n",
              "      <td>1</td>\n",
              "      <td>1</td>\n",
              "    </tr>\n",
              "    <tr>\n",
              "      <th>log10_minimum_nights</th>\n",
              "      <td>1.4</td>\n",
              "      <td>1.4</td>\n",
              "      <td>1.4</td>\n",
              "      <td>1.4</td>\n",
              "      <td>0.4</td>\n",
              "    </tr>\n",
              "    <tr>\n",
              "      <th>log10_number_of_reviews</th>\n",
              "      <td>2.0</td>\n",
              "      <td>0.4</td>\n",
              "      <td>1.2</td>\n",
              "      <td>0.8</td>\n",
              "      <td>1.4</td>\n",
              "    </tr>\n",
              "    <tr>\n",
              "      <th>log10_calculated_host_listings_count</th>\n",
              "      <td>0.4</td>\n",
              "      <td>0.4</td>\n",
              "      <td>0.4</td>\n",
              "      <td>0.4</td>\n",
              "      <td>2.0</td>\n",
              "    </tr>\n",
              "    <tr>\n",
              "      <th>log10_availability_365</th>\n",
              "      <td>2.6</td>\n",
              "      <td>2.2</td>\n",
              "      <td>2.6</td>\n",
              "      <td>2.6</td>\n",
              "      <td>2.4</td>\n",
              "    </tr>\n",
              "  </tbody>\n",
              "</table>\n",
              "</div>\n",
              "    <div class=\"colab-df-buttons\">\n",
              "\n",
              "  <div class=\"colab-df-container\">\n",
              "    <button class=\"colab-df-convert\" onclick=\"convertToInteractive('df-b8d3c962-2d0e-4f28-b387-6aa9f23285ca')\"\n",
              "            title=\"Convert this dataframe to an interactive table.\"\n",
              "            style=\"display:none;\">\n",
              "\n",
              "  <svg xmlns=\"http://www.w3.org/2000/svg\" height=\"24px\" viewBox=\"0 -960 960 960\">\n",
              "    <path d=\"M120-120v-720h720v720H120Zm60-500h600v-160H180v160Zm220 220h160v-160H400v160Zm0 220h160v-160H400v160ZM180-400h160v-160H180v160Zm440 0h160v-160H620v160ZM180-180h160v-160H180v160Zm440 0h160v-160H620v160Z\"/>\n",
              "  </svg>\n",
              "    </button>\n",
              "\n",
              "  <style>\n",
              "    .colab-df-container {\n",
              "      display:flex;\n",
              "      gap: 12px;\n",
              "    }\n",
              "\n",
              "    .colab-df-convert {\n",
              "      background-color: #E8F0FE;\n",
              "      border: none;\n",
              "      border-radius: 50%;\n",
              "      cursor: pointer;\n",
              "      display: none;\n",
              "      fill: #1967D2;\n",
              "      height: 32px;\n",
              "      padding: 0 0 0 0;\n",
              "      width: 32px;\n",
              "    }\n",
              "\n",
              "    .colab-df-convert:hover {\n",
              "      background-color: #E2EBFA;\n",
              "      box-shadow: 0px 1px 2px rgba(60, 64, 67, 0.3), 0px 1px 3px 1px rgba(60, 64, 67, 0.15);\n",
              "      fill: #174EA6;\n",
              "    }\n",
              "\n",
              "    .colab-df-buttons div {\n",
              "      margin-bottom: 4px;\n",
              "    }\n",
              "\n",
              "    [theme=dark] .colab-df-convert {\n",
              "      background-color: #3B4455;\n",
              "      fill: #D2E3FC;\n",
              "    }\n",
              "\n",
              "    [theme=dark] .colab-df-convert:hover {\n",
              "      background-color: #434B5C;\n",
              "      box-shadow: 0px 1px 3px 1px rgba(0, 0, 0, 0.15);\n",
              "      filter: drop-shadow(0px 1px 2px rgba(0, 0, 0, 0.3));\n",
              "      fill: #FFFFFF;\n",
              "    }\n",
              "  </style>\n",
              "\n",
              "    <script>\n",
              "      const buttonEl =\n",
              "        document.querySelector('#df-b8d3c962-2d0e-4f28-b387-6aa9f23285ca button.colab-df-convert');\n",
              "      buttonEl.style.display =\n",
              "        google.colab.kernel.accessAllowed ? 'block' : 'none';\n",
              "\n",
              "      async function convertToInteractive(key) {\n",
              "        const element = document.querySelector('#df-b8d3c962-2d0e-4f28-b387-6aa9f23285ca');\n",
              "        const dataTable =\n",
              "          await google.colab.kernel.invokeFunction('convertToInteractive',\n",
              "                                                    [key], {});\n",
              "        if (!dataTable) return;\n",
              "\n",
              "        const docLinkHtml = 'Like what you see? Visit the ' +\n",
              "          '<a target=\"_blank\" href=https://colab.research.google.com/notebooks/data_table.ipynb>data table notebook</a>'\n",
              "          + ' to learn more about interactive tables.';\n",
              "        element.innerHTML = '';\n",
              "        dataTable['output_type'] = 'display_data';\n",
              "        await google.colab.output.renderOutput(dataTable, element);\n",
              "        const docLink = document.createElement('div');\n",
              "        docLink.innerHTML = docLinkHtml;\n",
              "        element.appendChild(docLink);\n",
              "      }\n",
              "    </script>\n",
              "  </div>\n",
              "\n",
              "\n",
              "<div id=\"df-a5c30ccf-4fab-4725-84ea-535785e7db70\">\n",
              "  <button class=\"colab-df-quickchart\" onclick=\"quickchart('df-a5c30ccf-4fab-4725-84ea-535785e7db70')\"\n",
              "            title=\"Suggest charts\"\n",
              "            style=\"display:none;\">\n",
              "\n",
              "<svg xmlns=\"http://www.w3.org/2000/svg\" height=\"24px\"viewBox=\"0 0 24 24\"\n",
              "     width=\"24px\">\n",
              "    <g>\n",
              "        <path d=\"M19 3H5c-1.1 0-2 .9-2 2v14c0 1.1.9 2 2 2h14c1.1 0 2-.9 2-2V5c0-1.1-.9-2-2-2zM9 17H7v-7h2v7zm4 0h-2V7h2v10zm4 0h-2v-4h2v4z\"/>\n",
              "    </g>\n",
              "</svg>\n",
              "  </button>\n",
              "\n",
              "<style>\n",
              "  .colab-df-quickchart {\n",
              "      --bg-color: #E8F0FE;\n",
              "      --fill-color: #1967D2;\n",
              "      --hover-bg-color: #E2EBFA;\n",
              "      --hover-fill-color: #174EA6;\n",
              "      --disabled-fill-color: #AAA;\n",
              "      --disabled-bg-color: #DDD;\n",
              "  }\n",
              "\n",
              "  [theme=dark] .colab-df-quickchart {\n",
              "      --bg-color: #3B4455;\n",
              "      --fill-color: #D2E3FC;\n",
              "      --hover-bg-color: #434B5C;\n",
              "      --hover-fill-color: #FFFFFF;\n",
              "      --disabled-bg-color: #3B4455;\n",
              "      --disabled-fill-color: #666;\n",
              "  }\n",
              "\n",
              "  .colab-df-quickchart {\n",
              "    background-color: var(--bg-color);\n",
              "    border: none;\n",
              "    border-radius: 50%;\n",
              "    cursor: pointer;\n",
              "    display: none;\n",
              "    fill: var(--fill-color);\n",
              "    height: 32px;\n",
              "    padding: 0;\n",
              "    width: 32px;\n",
              "  }\n",
              "\n",
              "  .colab-df-quickchart:hover {\n",
              "    background-color: var(--hover-bg-color);\n",
              "    box-shadow: 0 1px 2px rgba(60, 64, 67, 0.3), 0 1px 3px 1px rgba(60, 64, 67, 0.15);\n",
              "    fill: var(--button-hover-fill-color);\n",
              "  }\n",
              "\n",
              "  .colab-df-quickchart-complete:disabled,\n",
              "  .colab-df-quickchart-complete:disabled:hover {\n",
              "    background-color: var(--disabled-bg-color);\n",
              "    fill: var(--disabled-fill-color);\n",
              "    box-shadow: none;\n",
              "  }\n",
              "\n",
              "  .colab-df-spinner {\n",
              "    border: 2px solid var(--fill-color);\n",
              "    border-color: transparent;\n",
              "    border-bottom-color: var(--fill-color);\n",
              "    animation:\n",
              "      spin 1s steps(1) infinite;\n",
              "  }\n",
              "\n",
              "  @keyframes spin {\n",
              "    0% {\n",
              "      border-color: transparent;\n",
              "      border-bottom-color: var(--fill-color);\n",
              "      border-left-color: var(--fill-color);\n",
              "    }\n",
              "    20% {\n",
              "      border-color: transparent;\n",
              "      border-left-color: var(--fill-color);\n",
              "      border-top-color: var(--fill-color);\n",
              "    }\n",
              "    30% {\n",
              "      border-color: transparent;\n",
              "      border-left-color: var(--fill-color);\n",
              "      border-top-color: var(--fill-color);\n",
              "      border-right-color: var(--fill-color);\n",
              "    }\n",
              "    40% {\n",
              "      border-color: transparent;\n",
              "      border-right-color: var(--fill-color);\n",
              "      border-top-color: var(--fill-color);\n",
              "    }\n",
              "    60% {\n",
              "      border-color: transparent;\n",
              "      border-right-color: var(--fill-color);\n",
              "    }\n",
              "    80% {\n",
              "      border-color: transparent;\n",
              "      border-right-color: var(--fill-color);\n",
              "      border-bottom-color: var(--fill-color);\n",
              "    }\n",
              "    90% {\n",
              "      border-color: transparent;\n",
              "      border-bottom-color: var(--fill-color);\n",
              "    }\n",
              "  }\n",
              "</style>\n",
              "\n",
              "  <script>\n",
              "    async function quickchart(key) {\n",
              "      const quickchartButtonEl =\n",
              "        document.querySelector('#' + key + ' button');\n",
              "      quickchartButtonEl.disabled = true;  // To prevent multiple clicks.\n",
              "      quickchartButtonEl.classList.add('colab-df-spinner');\n",
              "      try {\n",
              "        const charts = await google.colab.kernel.invokeFunction(\n",
              "            'suggestCharts', [key], {});\n",
              "      } catch (error) {\n",
              "        console.error('Error during call to suggestCharts:', error);\n",
              "      }\n",
              "      quickchartButtonEl.classList.remove('colab-df-spinner');\n",
              "      quickchartButtonEl.classList.add('colab-df-quickchart-complete');\n",
              "    }\n",
              "    (() => {\n",
              "      let quickchartButtonEl =\n",
              "        document.querySelector('#df-a5c30ccf-4fab-4725-84ea-535785e7db70 button');\n",
              "      quickchartButtonEl.style.display =\n",
              "        google.colab.kernel.accessAllowed ? 'block' : 'none';\n",
              "    })();\n",
              "  </script>\n",
              "</div>\n",
              "\n",
              "    </div>\n",
              "  </div>\n"
            ],
            "application/vnd.google.colaboratory.intrinsic+json": {
              "type": "dataframe",
              "summary": "{\n  \"name\": \"airbnb_data\",\n  \"rows\": 12,\n  \"fields\": [\n    {\n      \"column\": 10349,\n      \"properties\": {\n        \"dtype\": \"string\",\n        \"num_unique_values\": 11,\n        \"samples\": [\n          \"1\",\n          30279712,\n          0.4\n        ],\n        \"semantic_type\": \"\",\n        \"description\": \"\"\n      }\n    },\n    {\n      \"column\": 9406,\n      \"properties\": {\n        \"dtype\": \"string\",\n        \"num_unique_values\": 11,\n        \"samples\": [\n          \"1\",\n          702914813859077943,\n          0.4\n        ],\n        \"semantic_type\": \"\",\n        \"description\": \"\"\n      }\n    },\n    {\n      \"column\": 12437,\n      \"properties\": {\n        \"dtype\": \"string\",\n        \"num_unique_values\": 11,\n        \"samples\": [\n          \"1\",\n          7711899,\n          0.4\n        ],\n        \"semantic_type\": \"\",\n        \"description\": \"\"\n      }\n    },\n    {\n      \"column\": 9417,\n      \"properties\": {\n        \"dtype\": \"string\",\n        \"num_unique_values\": 12,\n        \"samples\": [\n          0.4,\n          0.8,\n          749089594249468672\n        ],\n        \"semantic_type\": \"\",\n        \"description\": \"\"\n      }\n    },\n    {\n      \"column\": 15417,\n      \"properties\": {\n        \"dtype\": \"string\",\n        \"num_unique_values\": 12,\n        \"samples\": [\n          2.0,\n          1.4000000000000001,\n          613747202944317309\n        ],\n        \"semantic_type\": \"\",\n        \"description\": \"\"\n      }\n    }\n  ]\n}"
            }
          },
          "metadata": {},
          "execution_count": 2
        }
      ]
    },
    {
      "cell_type": "code",
      "source": [
        "# Display the data types of each column in the dataset\n",
        "print(airbnb_data.dtypes)\n",
        "airbnb_data.columns = airbnb_data.columns.str.strip()\n",
        "\n",
        "\n",
        "\n",
        "# Define features (X) and target variable (y)\n",
        "features = ['airbnb_data.columns ']\n",
        "\n",
        "target = 'price'\n",
        "\n",
        "# Split dataset into features (X) and target variable (y)\n",
        "X = airbnb_data[airbnb_data.columns]\n",
        "y = airbnb_data[target]\n",
        "\n",
        "# Split data into training and validation sets\n",
        "from sklearn.model_selection import train_test_split\n",
        "X_train, X_val, y_train, y_val = train_test_split(X, y, test_size=0.2, random_state=42)\n",
        "\n",
        "# Display the shapes of the training and validation sets\n",
        "print(\"Training set (X_train) shape:\", X_train.shape)\n",
        "print(\"Validation set (X_val) shape:\", X_val.shape)\n",
        "print(\"Training set (y_train) shape:\", y_train.shape)\n",
        "print(\"Validation set (y_val) shape:\", y_val.shape)"
      ],
      "metadata": {
        "colab": {
          "base_uri": "https://localhost:8080/"
        },
        "id": "BXO3DmxjNGxZ",
        "outputId": "381193b8-a575-4784-c19b-acfab3af01fb"
      },
      "execution_count": 3,
      "outputs": [
        {
          "output_type": "stream",
          "name": "stdout",
          "text": [
            "id                                        int64\n",
            "neighbourhood                            object\n",
            "room_type                                object\n",
            "price                                   float64\n",
            "rating                                   object\n",
            "bedrooms                                 object\n",
            "beds                                      int64\n",
            "baths                                    object\n",
            "log10_minimum_nights                    float64\n",
            "log10_number_of_reviews                 float64\n",
            "log10_calculated_host_listings_count    float64\n",
            "log10_availability_365                  float64\n",
            "dtype: object\n",
            "Training set (X_train) shape: (16240, 12)\n",
            "Validation set (X_val) shape: (4060, 12)\n",
            "Training set (y_train) shape: (16240,)\n",
            "Validation set (y_val) shape: (4060,)\n"
          ]
        }
      ]
    },
    {
      "cell_type": "code",
      "source": [
        "# Replace 'No rating' with NaN\n",
        "X_train['rating'] = pd.to_numeric(X_train['rating'], errors='coerce')\n",
        "X_val['rating'] = pd.to_numeric(X_val['rating'], errors='coerce')\n",
        "\n",
        "\n",
        "X['rating'] = pd.to_numeric(X['rating'], errors='coerce')\n",
        "X['rating'] = X['rating'].astype(float)\n",
        "\n",
        "X['baths'] = X['baths'].replace('Not specified', np.nan)\n",
        "X['baths'] = pd.to_numeric(X['baths'], errors='coerce')\n",
        "\n",
        "X['bedrooms'] = X['bedrooms'].replace('studio', 0)\n",
        "X['bedrooms'] = pd.to_numeric(X['bedrooms'], errors='coerce')\n",
        "\n",
        "\n",
        "# Fill NaN values with a specific numerical value or strategy (e.g., mean, median)\n",
        "X_train['rating'].fillna(-1, inplace=True)  # Replace NaN with -1\n",
        "X_val['rating'].fillna(-1, inplace=True)\n",
        "\n",
        "# Convert 'rating' column to float type\n",
        "X_train['rating'] = X_train['rating'].astype(float)\n",
        "X_val['rating'] = X_val['rating'].astype(float)"
      ],
      "metadata": {
        "colab": {
          "base_uri": "https://localhost:8080/"
        },
        "id": "LvFWc1uKPN86",
        "outputId": "9a276078-dfce-4ef8-9ae3-49ea6edd2b37"
      },
      "execution_count": 4,
      "outputs": [
        {
          "output_type": "stream",
          "name": "stderr",
          "text": [
            "<ipython-input-4-40c6e321206c>:6: FutureWarning: A value is trying to be set on a copy of a DataFrame or Series through chained assignment using an inplace method.\n",
            "The behavior will change in pandas 3.0. This inplace method will never work because the intermediate object on which we are setting values always behaves as a copy.\n",
            "\n",
            "For example, when doing 'df[col].method(value, inplace=True)', try using 'df.method({col: value}, inplace=True)' or df[col] = df[col].method(value) instead, to perform the operation inplace on the original object.\n",
            "\n",
            "\n",
            "  X_train['rating'].fillna(-1, inplace=True)  # Replace NaN with -1\n",
            "<ipython-input-4-40c6e321206c>:7: FutureWarning: A value is trying to be set on a copy of a DataFrame or Series through chained assignment using an inplace method.\n",
            "The behavior will change in pandas 3.0. This inplace method will never work because the intermediate object on which we are setting values always behaves as a copy.\n",
            "\n",
            "For example, when doing 'df[col].method(value, inplace=True)', try using 'df.method({col: value}, inplace=True)' or df[col] = df[col].method(value) instead, to perform the operation inplace on the original object.\n",
            "\n",
            "\n",
            "  X_val['rating'].fillna(-1, inplace=True)\n"
          ]
        }
      ]
    },
    {
      "cell_type": "code",
      "source": [
        "# import numpy as np\n",
        "# !pip install feature-engine\n",
        "# Replace 'Not specified' with a consistent numerical representation (e.g., NaN)\n",
        "X_train['baths'] = X_train['baths'].replace('Not specified', np.nan)\n",
        "X_val['baths'] = X_val['baths'].replace('Not specified', np.nan)\n",
        "\n",
        "# Convert the 'baths' column to numeric\n",
        "X_train['baths'] = pd.to_numeric(X_train['baths'], errors='coerce')\n",
        "X_val['baths'] = pd.to_numeric(X_val['baths'], errors='coerce')\n",
        "\n",
        "# Handle any missing values, if present\n",
        "# For example, filling missing values with the median\n",
        "median_baths = X_train['baths'].median()\n",
        "X_train['baths'].fillna(median_baths, inplace=True)\n",
        "X_val['baths'].fillna(median_baths,inplace=True)"
      ],
      "metadata": {
        "colab": {
          "base_uri": "https://localhost:8080/"
        },
        "id": "XngWtNz9PTHY",
        "outputId": "d6b3eebb-a616-4b9d-c4ec-273462115c69"
      },
      "execution_count": 5,
      "outputs": [
        {
          "output_type": "stream",
          "name": "stdout",
          "text": [
            "Requirement already satisfied: feature-engine in /usr/local/lib/python3.10/dist-packages (1.7.0)\n",
            "Requirement already satisfied: numpy>=1.18.2 in /usr/local/lib/python3.10/dist-packages (from feature-engine) (1.25.2)\n",
            "Requirement already satisfied: pandas>=2.2.0 in /usr/local/lib/python3.10/dist-packages (from feature-engine) (2.2.1)\n",
            "Requirement already satisfied: scikit-learn>=1.4.0 in /usr/local/lib/python3.10/dist-packages (from feature-engine) (1.4.1.post1)\n",
            "Requirement already satisfied: scipy>=1.4.1 in /usr/local/lib/python3.10/dist-packages (from feature-engine) (1.11.4)\n",
            "Requirement already satisfied: statsmodels>=0.11.1 in /usr/local/lib/python3.10/dist-packages (from feature-engine) (0.14.1)\n",
            "Requirement already satisfied: python-dateutil>=2.8.2 in /usr/local/lib/python3.10/dist-packages (from pandas>=2.2.0->feature-engine) (2.8.2)\n",
            "Requirement already satisfied: pytz>=2020.1 in /usr/local/lib/python3.10/dist-packages (from pandas>=2.2.0->feature-engine) (2023.4)\n",
            "Requirement already satisfied: tzdata>=2022.7 in /usr/local/lib/python3.10/dist-packages (from pandas>=2.2.0->feature-engine) (2024.1)\n",
            "Requirement already satisfied: joblib>=1.2.0 in /usr/local/lib/python3.10/dist-packages (from scikit-learn>=1.4.0->feature-engine) (1.3.2)\n",
            "Requirement already satisfied: threadpoolctl>=2.0.0 in /usr/local/lib/python3.10/dist-packages (from scikit-learn>=1.4.0->feature-engine) (3.3.0)\n",
            "Requirement already satisfied: patsy>=0.5.4 in /usr/local/lib/python3.10/dist-packages (from statsmodels>=0.11.1->feature-engine) (0.5.6)\n",
            "Requirement already satisfied: packaging>=21.3 in /usr/local/lib/python3.10/dist-packages (from statsmodels>=0.11.1->feature-engine) (24.0)\n",
            "Requirement already satisfied: six in /usr/local/lib/python3.10/dist-packages (from patsy>=0.5.4->statsmodels>=0.11.1->feature-engine) (1.16.0)\n"
          ]
        },
        {
          "output_type": "stream",
          "name": "stderr",
          "text": [
            "<ipython-input-5-ffb2f795138d>:14: FutureWarning: A value is trying to be set on a copy of a DataFrame or Series through chained assignment using an inplace method.\n",
            "The behavior will change in pandas 3.0. This inplace method will never work because the intermediate object on which we are setting values always behaves as a copy.\n",
            "\n",
            "For example, when doing 'df[col].method(value, inplace=True)', try using 'df.method({col: value}, inplace=True)' or df[col] = df[col].method(value) instead, to perform the operation inplace on the original object.\n",
            "\n",
            "\n",
            "  X_train['baths'].fillna(median_baths, inplace=True)\n",
            "<ipython-input-5-ffb2f795138d>:15: FutureWarning: A value is trying to be set on a copy of a DataFrame or Series through chained assignment using an inplace method.\n",
            "The behavior will change in pandas 3.0. This inplace method will never work because the intermediate object on which we are setting values always behaves as a copy.\n",
            "\n",
            "For example, when doing 'df[col].method(value, inplace=True)', try using 'df.method({col: value}, inplace=True)' or df[col] = df[col].method(value) instead, to perform the operation inplace on the original object.\n",
            "\n",
            "\n",
            "  X_val['baths'].fillna(median_baths,inplace=True)\n"
          ]
        }
      ]
    },
    {
      "cell_type": "code",
      "source": [
        "# Replace 'studio' with a consistent numerical representation\n",
        "X_train['bedrooms'] = X_train['bedrooms'].replace('studio', 0)\n",
        "X_val['bedrooms'] = X_val['bedrooms'].replace('studio', 0)\n",
        "\n",
        "# Replace 'Studio' with a consistent numerical representation (e.g., 0 for studio)\n",
        "X_train['bedrooms'] = X_train['bedrooms'].replace('Studio', 0)\n",
        "X_val['bedrooms'] = X_val['bedrooms'].replace('Studio', 0)\n",
        "\n",
        "# Convert the 'bedrooms' column to numeric\n",
        "X_train['bedrooms'] = pd.to_numeric(X_train['bedrooms'], errors='coerce')\n",
        "X_val['bedrooms'] = pd.to_numeric(X_val['bedrooms'], errors='coerce')\n",
        "\n",
        "# Handle any missing values, if present\n",
        "# For example, filling missing values with the median\n",
        "median_bedrooms = X_train['bedrooms'].median()\n",
        "X_train['bedrooms'].fillna(median_bedrooms, inplace=True)\n",
        "X_val['bedrooms'].fillna(median_bedrooms,inplace=True)"
      ],
      "metadata": {
        "colab": {
          "base_uri": "https://localhost:8080/"
        },
        "id": "P8ng3-HdQPKf",
        "outputId": "83fec0ad-26ce-4226-bc1d-1a939679c611"
      },
      "execution_count": 6,
      "outputs": [
        {
          "output_type": "stream",
          "name": "stderr",
          "text": [
            "<ipython-input-6-86522c6b5a74>:16: FutureWarning: A value is trying to be set on a copy of a DataFrame or Series through chained assignment using an inplace method.\n",
            "The behavior will change in pandas 3.0. This inplace method will never work because the intermediate object on which we are setting values always behaves as a copy.\n",
            "\n",
            "For example, when doing 'df[col].method(value, inplace=True)', try using 'df.method({col: value}, inplace=True)' or df[col] = df[col].method(value) instead, to perform the operation inplace on the original object.\n",
            "\n",
            "\n",
            "  X_train['bedrooms'].fillna(median_bedrooms, inplace=True)\n",
            "<ipython-input-6-86522c6b5a74>:17: FutureWarning: A value is trying to be set on a copy of a DataFrame or Series through chained assignment using an inplace method.\n",
            "The behavior will change in pandas 3.0. This inplace method will never work because the intermediate object on which we are setting values always behaves as a copy.\n",
            "\n",
            "For example, when doing 'df[col].method(value, inplace=True)', try using 'df.method({col: value}, inplace=True)' or df[col] = df[col].method(value) instead, to perform the operation inplace on the original object.\n",
            "\n",
            "\n",
            "  X_val['bedrooms'].fillna(median_bedrooms,inplace=True)\n"
          ]
        }
      ]
    },
    {
      "cell_type": "code",
      "source": [
        "from sklearn.linear_model import LogisticRegression\n",
        "from sklearn.naive_bayes import GaussianNB\n",
        "from sklearn.tree import DecisionTreeClassifier\n",
        "from sklearn.metrics import accuracy_score\n",
        "import pandas as pd\n",
        "from sklearn.preprocessing import OneHotEncoder\n",
        "\n",
        "# Assuming 'X_train' and 'X_val' are your feature datasets containing categorical variables\n",
        "# Let's say 'X_train' and 'X_val' have multiple columns containing categorical values\n",
        "\n",
        "# Columns to be one-hot encoded\n",
        "categorical_cols = ['neighbourhood', 'room_type']\n",
        "\n",
        "# One-hot encode the categorical columns in both training and validation datasets\n",
        "encoder = OneHotEncoder(handle_unknown='ignore')\n",
        "\n",
        "X_train_encoded = pd.DataFrame(encoder.fit_transform(X_train[categorical_cols]).toarray(), columns=encoder.get_feature_names_out(categorical_cols))\n",
        "X_val_encoded = pd.DataFrame(encoder.transform(X_val[categorical_cols]).toarray(), columns=encoder.get_feature_names_out(categorical_cols))\n",
        "\n",
        "# Drop the original categorical columns from both datasets\n",
        "X_train.drop(categorical_cols, axis=1, inplace=True)\n",
        "X_val.drop(categorical_cols, axis=1, inplace=True)\n",
        "\n",
        "# Concatenate the encoded columns with the original datasets\n",
        "X_train = pd.concat([X_train, X_train_encoded], axis=1)\n",
        "X_val = pd.concat([X_val, X_val_encoded], axis=1)\n"
      ],
      "metadata": {
        "id": "zMRYLRbeQZPu"
      },
      "execution_count": 7,
      "outputs": []
    },
    {
      "cell_type": "code",
      "source": [
        "# Check column names in X_train\n",
        "print(\"Column Names in X_train:\", X_train.columns)\n",
        "\n",
        "# Inspect a sample of X_train\n",
        "print(\"Sample of X_train:\")\n",
        "print(X_train.head())\n",
        "\n",
        "# Check column names in y_train\n",
        "print(\"Name of y_train:\", y_train.name)\n",
        "\n",
        "# Inspect a sample of y_train\n",
        "print(\"Sample of y_train:\")\n",
        "print(y_train.head())"
      ],
      "metadata": {
        "colab": {
          "base_uri": "https://localhost:8080/"
        },
        "id": "10cwVHBGQmh1",
        "outputId": "638fbd6a-70d0-49a8-e035-722f8be0e489"
      },
      "execution_count": 8,
      "outputs": [
        {
          "output_type": "stream",
          "name": "stdout",
          "text": [
            "Column Names in X_train: Index(['id', 'price', 'rating', 'bedrooms', 'beds', 'baths',\n",
            "       'log10_minimum_nights', 'log10_number_of_reviews',\n",
            "       'log10_calculated_host_listings_count', 'log10_availability_365',\n",
            "       ...\n",
            "       'neighbourhood_West Village', 'neighbourhood_Williamsbridge',\n",
            "       'neighbourhood_Williamsburg', 'neighbourhood_Windsor Terrace',\n",
            "       'neighbourhood_Woodhaven', 'neighbourhood_Woodside',\n",
            "       'room_type_Entire home/apt', 'room_type_Hotel room',\n",
            "       'room_type_Private room', 'room_type_Shared room'],\n",
            "      dtype='object', length=135)\n",
            "Sample of X_train:\n",
            "                id  price  rating  bedrooms  beds  baths  \\\n",
            "925   4.062402e+07   85.0   -1.00       2.0   8.0    2.0   \n",
            "7659  9.169225e+17  175.0    5.00       2.0   2.0    1.0   \n",
            "7772  4.717912e+07  120.0    4.74       2.0   2.0    2.0   \n",
            "188   8.789687e+17   51.0   -1.00       1.0   1.0    1.5   \n",
            "1092  5.255347e+07  198.0    4.52       1.0   1.0    1.0   \n",
            "\n",
            "      log10_minimum_nights  log10_number_of_reviews  \\\n",
            "925                    1.4                      0.4   \n",
            "7659                   1.4                      1.2   \n",
            "7772                   1.4                      2.0   \n",
            "188                    1.4                      0.4   \n",
            "1092                   0.4                      1.6   \n",
            "\n",
            "      log10_calculated_host_listings_count  log10_availability_365  ...  \\\n",
            "925                                    1.0                     0.0  ...   \n",
            "7659                                   0.4                     2.2  ...   \n",
            "7772                                   1.2                     2.4  ...   \n",
            "188                                    1.2                     2.6  ...   \n",
            "1092                                   1.6                     0.0  ...   \n",
            "\n",
            "      neighbourhood_West Village  neighbourhood_Williamsbridge  \\\n",
            "925                          0.0                           0.0   \n",
            "7659                         0.0                           0.0   \n",
            "7772                         0.0                           0.0   \n",
            "188                          0.0                           0.0   \n",
            "1092                         0.0                           0.0   \n",
            "\n",
            "      neighbourhood_Williamsburg  neighbourhood_Windsor Terrace  \\\n",
            "925                          0.0                            0.0   \n",
            "7659                         0.0                            0.0   \n",
            "7772                         0.0                            0.0   \n",
            "188                          0.0                            0.0   \n",
            "1092                         0.0                            0.0   \n",
            "\n",
            "      neighbourhood_Woodhaven  neighbourhood_Woodside  \\\n",
            "925                       0.0                     0.0   \n",
            "7659                      0.0                     0.0   \n",
            "7772                      0.0                     0.0   \n",
            "188                       0.0                     0.0   \n",
            "1092                      0.0                     0.0   \n",
            "\n",
            "      room_type_Entire home/apt  room_type_Hotel room  room_type_Private room  \\\n",
            "925                         0.0                   0.0                     1.0   \n",
            "7659                        1.0                   0.0                     0.0   \n",
            "7772                        0.0                   0.0                     1.0   \n",
            "188                         0.0                   0.0                     1.0   \n",
            "1092                        1.0                   0.0                     0.0   \n",
            "\n",
            "      room_type_Shared room  \n",
            "925                     0.0  \n",
            "7659                    0.0  \n",
            "7772                    0.0  \n",
            "188                     0.0  \n",
            "1092                    0.0  \n",
            "\n",
            "[5 rows x 135 columns]\n",
            "Name of y_train: price\n",
            "Sample of y_train:\n",
            "925      85.0\n",
            "7659    175.0\n",
            "7772    120.0\n",
            "188      51.0\n",
            "1092    198.0\n",
            "Name: price, dtype: float64\n"
          ]
        }
      ]
    },
    {
      "cell_type": "code",
      "source": [
        "from sklearn.impute import SimpleImputer\n",
        "from sklearn.compose import ColumnTransformer\n",
        "from sklearn.pipeline import Pipeline\n",
        "\n",
        "# Identify numeric and non-numeric columns in X_train\n",
        "numeric_cols = X_train.select_dtypes(include=['float64', 'int64']).columns\n",
        "non_numeric_cols = X_train.select_dtypes(include=['object']).columns\n",
        "\n",
        "# Define preprocessing steps for numeric and non-numeric columns\n",
        "numeric_transformer = SimpleImputer(strategy='median')\n",
        "non_numeric_transformer = SimpleImputer(strategy='most_frequent')\n",
        "\n",
        "# Apply preprocessing steps to different types of columns\n",
        "preprocessor = ColumnTransformer(\n",
        "    transformers=[\n",
        "        ('num', numeric_transformer, numeric_cols),\n",
        "        ('non_num', non_numeric_transformer, non_numeric_cols)\n",
        "    ])\n",
        "\n",
        "# Fit and transform X_train\n",
        "X_train_preprocessed = preprocessor.fit_transform(X_train)\n",
        "X_train_numeric = X_train[numeric_cols]\n",
        "\n",
        "# Transform X_val\n",
        "X_val_preprocessed = preprocessor.transform(X_val)\n",
        "\n",
        "# Impute missing values separately for the target variable y_train\n",
        "target_imputer = SimpleImputer(strategy='median')\n",
        "y_train_imputed = target_imputer.fit_transform(y_train.values.reshape(-1, 1)).ravel()\n",
        "y_val_imputed = target_imputer.transform(y_val.values.reshape(-1,1)).ravel()\n"
      ],
      "metadata": {
        "id": "cYmwJQsaQqJH"
      },
      "execution_count": 11,
      "outputs": []
    },
    {
      "cell_type": "code",
      "source": [
        "from sklearn.preprocessing import OneHotEncoder\n",
        "\n",
        "# One-hot encode categorical variables\n",
        "encoder = OneHotEncoder(sparse_output=False, handle_unknown='ignore')\n",
        "X_train_encoded = encoder.fit_transform(X_train_preprocessed)\n",
        "\n",
        "# Print the shape of the encoded data to verify\n",
        "print(\"Shape of X_train_encoded:\", X_train_encoded.shape)"
      ],
      "metadata": {
        "colab": {
          "base_uri": "https://localhost:8080/"
        },
        "id": "g9lBHSz-R1Ex",
        "outputId": "b7d607e0-4f57-4593-fb9e-b004315ea532"
      },
      "execution_count": 12,
      "outputs": [
        {
          "output_type": "stream",
          "name": "stdout",
          "text": [
            "Shape of X_train_encoded: (19794, 17372)\n"
          ]
        }
      ]
    },
    {
      "cell_type": "code",
      "source": [
        "print(\"Shape of X_train_encoded:\", X_train_encoded.shape)\n",
        "print(\"Shape of y_train_imputed:\", y_train_imputed.shape)"
      ],
      "metadata": {
        "colab": {
          "base_uri": "https://localhost:8080/"
        },
        "id": "r43pmI_SR4jl",
        "outputId": "e053d97c-66f1-429b-f8fa-206e22b3bf5e"
      },
      "execution_count": 13,
      "outputs": [
        {
          "output_type": "stream",
          "name": "stdout",
          "text": [
            "Shape of X_train_encoded: (19794, 17372)\n",
            "Shape of y_train_imputed: (16240,)\n"
          ]
        }
      ]
    },
    {
      "cell_type": "code",
      "source": [
        "from sklearn.preprocessing import OneHotEncoder\n",
        "\n",
        "# Define preprocessing steps for non-numeric columns\n",
        "non_numeric_transformer = Pipeline(steps=[\n",
        "    ('imputer', SimpleImputer(strategy='most_frequent')),  # Impute missing values with most frequent value\n",
        "    ('onehot', OneHotEncoder(handle_unknown='ignore'))    # One-hot encode categorical variables\n",
        "])\n",
        "\n",
        "# Apply preprocessing steps to different types of columns\n",
        "preprocessor = ColumnTransformer(\n",
        "    transformers=[\n",
        "        ('num', numeric_transformer, numeric_cols),\n",
        "        ('non_num', non_numeric_transformer, non_numeric_cols)\n",
        "    ])\n",
        "# Fit the ColumnTransformer on the training data\n",
        "preprocessor.fit(X_train)\n",
        "\n",
        "# Transform X_train\n",
        "X_train_preprocessed = preprocessor.transform(X_train)\n",
        "\n",
        "# Transform X_val\n",
        "X_val_preprocessed = preprocessor.transform(X_val)\n",
        "# Fit and transform X_train\n",
        "X_train_numeric = X_train[numeric_cols]\n",
        "\n",
        "# Transform X_val\n",
        "X_val_preprocessed = preprocessor.transform(X_val)"
      ],
      "metadata": {
        "id": "3QZxPi5SR_0w"
      },
      "execution_count": 18,
      "outputs": []
    },
    {
      "cell_type": "code",
      "source": [
        "print(\"Shape of X_train_preprocessed:\", X_train_preprocessed.shape)\n",
        "print(\"Shape of y_train_imputed:\", y_train_imputed.shape)\n"
      ],
      "metadata": {
        "colab": {
          "base_uri": "https://localhost:8080/"
        },
        "id": "wwtqufUXSrv-",
        "outputId": "735e214c-89c2-4e33-a282-b001ea58136a"
      },
      "execution_count": 20,
      "outputs": [
        {
          "output_type": "stream",
          "name": "stdout",
          "text": [
            "Shape of X_train_preprocessed: (19794, 135)\n",
            "Shape of y_train_imputed: (16240,)\n"
          ]
        }
      ]
    },
    {
      "cell_type": "code",
      "source": [
        "# Subset X_train_preprocessed to match the number of samples in y_train_imputed\n",
        "X_train_preprocessed_subset = X_train_preprocessed[:len(y_train_imputed)]\n",
        "\n",
        "# Verify the shape of the subsetted input features\n",
        "print(\"Shape of X_train_preprocessed_subset:\", X_train_preprocessed_subset.shape)\n"
      ],
      "metadata": {
        "colab": {
          "base_uri": "https://localhost:8080/"
        },
        "id": "63vpwEAsTDQ3",
        "outputId": "1d673678-02bb-4919-9f16-b14e524fb618"
      },
      "execution_count": 29,
      "outputs": [
        {
          "output_type": "stream",
          "name": "stdout",
          "text": [
            "Shape of X_train_preprocessed_subset: (16240, 135)\n"
          ]
        }
      ]
    },
    {
      "cell_type": "code",
      "source": [
        "print(\"Shape of y_val_imputed:\", y_val_imputed.shape)\n",
        "print(\"Shape of y_pred_linear_reg:\", y_pred_linear_reg.shape)\n"
      ],
      "metadata": {
        "colab": {
          "base_uri": "https://localhost:8080/"
        },
        "id": "dJicF4awVU9M",
        "outputId": "c4155417-a205-4d62-f07f-eb843bef4657"
      },
      "execution_count": 33,
      "outputs": [
        {
          "output_type": "stream",
          "name": "stdout",
          "text": [
            "Shape of y_val_imputed: (4060,)\n",
            "Shape of y_pred_linear_reg: (16240,)\n"
          ]
        }
      ]
    },
    {
      "cell_type": "code",
      "source": [
        "# Subset y_pred_linear_reg to match the number of samples in y_val_imputed\n",
        "y_pred_linear_reg_subset = y_pred_linear_reg[:len(y_val_imputed)]\n",
        "# Verify the shape of the subsetted input features\n",
        "print(\"Shape of y_pred_linear_reg_subset:\", y_pred_linear_reg_subset.shape)"
      ],
      "metadata": {
        "colab": {
          "base_uri": "https://localhost:8080/"
        },
        "id": "-K9weSPeVqMi",
        "outputId": "bfd96bd2-69dd-44fa-cd1b-36c7571e4d58"
      },
      "execution_count": 34,
      "outputs": [
        {
          "output_type": "stream",
          "name": "stdout",
          "text": [
            "Shape of y_pred_linear_reg_subset: (4060,)\n"
          ]
        }
      ]
    },
    {
      "cell_type": "code",
      "source": [
        "from sklearn.linear_model import LinearRegression\n",
        "\n",
        "# Instantiate the Linear Regression model\n",
        "linear_reg_model = LinearRegression()\n",
        "\n",
        "# Fit the Linear Regression model on the imputed data\n",
        "linear_reg_model.fit(X_train_preprocessed_subset , y_train_imputed)\n",
        "\n",
        "# Make predictions on the validation data\n",
        "y_pred_linear_reg = linear_reg_model.predict(X_train_preprocessed_subset)\n",
        "\n",
        "# Now you can evaluate the performance of the Linear Regression model, e.g., by calculating the mean squared error\n",
        "from sklearn.metrics import mean_squared_error\n",
        "\n",
        "mse_linear_reg = mean_squared_error(y_val_imputed, y_pred_linear_reg_subset)\n",
        "print(\"Mean Squared Error (Linear Regression):\", mse_linear_reg)\n",
        "\n"
      ],
      "metadata": {
        "colab": {
          "base_uri": "https://localhost:8080/"
        },
        "id": "oelGIiK-T2LG",
        "outputId": "c5f69d39-53d5-426e-b9da-3ffe490d844c"
      },
      "execution_count": 35,
      "outputs": [
        {
          "output_type": "stream",
          "name": "stdout",
          "text": [
            "Mean Squared Error (Linear Regression): 32206.95696660115\n"
          ]
        }
      ]
    },
    {
      "cell_type": "code",
      "source": [
        "from sklearn.metrics import r2_score, mean_absolute_error, mean_squared_error\n",
        "\n",
        "# Calculate R-squared (R2) score\n",
        "r2 = r2_score(y_val_imputed, y_pred_linear_reg_subset)\n",
        "print(\"R-squared (R2) score:\", r2)\n",
        "\n",
        "# Calculate Mean Absolute Error (MAE)\n",
        "mae = mean_absolute_error(y_val_imputed, y_pred_linear_reg_subset)\n",
        "print(\"Mean Absolute Error (MAE):\", mae)\n",
        "\n",
        "# Calculate Root Mean Squared Error (RMSE)\n",
        "rmse = mean_squared_error(y_val_imputed, y_pred_linear_reg_subset, squared=False)\n",
        "print(\"Root Mean Squared Error (RMSE):\", rmse)\n"
      ],
      "metadata": {
        "colab": {
          "base_uri": "https://localhost:8080/"
        },
        "id": "nigR2KOzWRD5",
        "outputId": "c0cb659d-3467-4289-9127-2026b9fd1ef0"
      },
      "execution_count": 38,
      "outputs": [
        {
          "output_type": "stream",
          "name": "stdout",
          "text": [
            "R-squared (R2) score: -1.119978944965462\n",
            "Mean Absolute Error (MAE): 119.49307468209585\n",
            "Root Mean Squared Error (RMSE): 179.4629682318922\n"
          ]
        },
        {
          "output_type": "stream",
          "name": "stderr",
          "text": [
            "/usr/local/lib/python3.10/dist-packages/sklearn/metrics/_regression.py:483: FutureWarning: 'squared' is deprecated in version 1.4 and will be removed in 1.6. To calculate the root mean squared error, use the function'root_mean_squared_error'.\n",
            "  warnings.warn(\n"
          ]
        }
      ]
    },
    {
      "cell_type": "code",
      "source": [
        "print(\"Shape of y_val_imputed:\", y_val_imputed.shape)\n",
        "print(\"Shape of y_pred_naive_bayes:\", y_pred_naive_bayes.shape)\n"
      ],
      "metadata": {
        "colab": {
          "base_uri": "https://localhost:8080/"
        },
        "id": "-Tp3_ktCegtV",
        "outputId": "3add405b-b665-4a14-bc33-79d77f01a6c3"
      },
      "execution_count": 40,
      "outputs": [
        {
          "output_type": "stream",
          "name": "stdout",
          "text": [
            "Shape of y_val_imputed: (4060,)\n",
            "Shape of y_pred_naive_bayes: (7359,)\n"
          ]
        }
      ]
    },
    {
      "cell_type": "code",
      "source": [
        "from sklearn.naive_bayes import GaussianNB\n",
        "from sklearn.metrics import mean_squared_error\n",
        "\n",
        "# Instantiate the Naive Bayes model\n",
        "naive_bayes_model = GaussianNB()\n",
        "\n",
        "# Fit the Naive Bayes model on the training data\n",
        "naive_bayes_model.fit(X_train_preprocessed_subset, y_train_imputed)\n",
        "\n",
        "# Make predictions on the validation data\n",
        "y_pred_naive_bayes = naive_bayes_model.predict(X_train_preprocessed_subset)\n",
        "\n",
        "# Now you can evaluate the performance of the Naive Bayes model by calculating the mean squared error\n",
        "mse_naive_bayes = mean_squared_error(y_val_imputed, y_pred_naive_bayes[:len(y_val_imputed)])\n",
        "print(\"Mean Squared Error (Naive Bayes):\", mse_naive_bayes)\n",
        "\n"
      ],
      "metadata": {
        "colab": {
          "base_uri": "https://localhost:8080/"
        },
        "id": "-Uj12DKteR2t",
        "outputId": "7fa0099a-36f3-47e3-a62c-423ed9754c90"
      },
      "execution_count": 46,
      "outputs": [
        {
          "output_type": "stream",
          "name": "stdout",
          "text": [
            "Mean Squared Error (Naive Bayes): 77551.01551724138\n"
          ]
        }
      ]
    },
    {
      "cell_type": "code",
      "source": [
        "from sklearn.metrics import r2_score, mean_absolute_error, mean_squared_error\n",
        "\n",
        "# Calculate R-squared (R2) score\n",
        "r2_nb = r2_score(y_val_imputed, y_pred_naive_bayes_subset)\n",
        "print(\"R-squared (R2) score (Naive Bayes):\", r2_nb)\n",
        "\n",
        "# Calculate Mean Absolute Error (MAE)\n",
        "mae_nb = mean_absolute_error(y_val_imputed, y_pred_naive_bayes_subset)\n",
        "print(\"Mean Absolute Error (MAE) (Naive Bayes):\", mae_nb)\n",
        "\n",
        "# Calculate Root Mean Squared Error (RMSE)\n",
        "rmse_nb = mean_squared_error(y_val_imputed, y_pred_naive_bayes_subset, squared=False)\n",
        "print(\"Root Mean Squared Error (RMSE) (Naive Bayes):\", rmse_nb)\n"
      ],
      "metadata": {
        "colab": {
          "base_uri": "https://localhost:8080/"
        },
        "id": "2pxnQmgXg9TR",
        "outputId": "192d6702-82a1-40b2-a95a-c7487aa89799"
      },
      "execution_count": 47,
      "outputs": [
        {
          "output_type": "stream",
          "name": "stdout",
          "text": [
            "R-squared (R2) score (Naive Bayes): -4.174492635964833\n",
            "Mean Absolute Error (MAE) (Naive Bayes): 236.7716748768473\n",
            "Root Mean Squared Error (RMSE) (Naive Bayes): 280.3773710502407\n"
          ]
        },
        {
          "output_type": "stream",
          "name": "stderr",
          "text": [
            "/usr/local/lib/python3.10/dist-packages/sklearn/metrics/_regression.py:483: FutureWarning: 'squared' is deprecated in version 1.4 and will be removed in 1.6. To calculate the root mean squared error, use the function'root_mean_squared_error'.\n",
            "  warnings.warn(\n"
          ]
        }
      ]
    },
    {
      "cell_type": "code",
      "source": [
        "from sklearn.tree import DecisionTreeRegressor\n",
        "from sklearn.metrics import r2_score, mean_absolute_error, mean_squared_error\n",
        "\n",
        "# Instantiate the Decision Tree regressor\n",
        "decision_tree_model = DecisionTreeRegressor()\n",
        "\n",
        "# Fit the model on the training data\n",
        "decision_tree_model.fit(X_train_preprocessed_subset, y_train_imputed)\n",
        "\n",
        "# Make predictions on the validation data\n",
        "y_pred_decision_tree = decision_tree_model.predict(X_val_preprocessed)\n",
        "\n",
        "# Trim y_pred_decision_tree to match the shape of y_val_imputed\n",
        "y_pred_decision_tree_subset = y_pred_decision_tree[:len(y_val_imputed)]\n",
        "\n",
        "# Calculate R-squared (R2) score\n",
        "r2_decision_tree = r2_score(y_val_imputed, y_pred_decision_tree_subset)\n",
        "print(\"R-squared (R2) score (Decision Tree):\", r2_decision_tree)\n",
        "\n",
        "# Calculate Mean Absolute Error (MAE)\n",
        "mae_decision_tree = mean_absolute_error(y_val_imputed, y_pred_decision_tree_subset)\n",
        "print(\"Mean Absolute Error (MAE) (Decision Tree):\", mae_decision_tree)\n",
        "\n",
        "# Calculate Root Mean Squared Error (RMSE)\n",
        "rmse_decision_tree = mean_squared_error(y_val_imputed, y_pred_decision_tree_subset, squared=False)\n",
        "print(\"Root Mean Squared Error (RMSE) (Decision Tree):\", rmse_decision_tree)\n"
      ],
      "metadata": {
        "colab": {
          "base_uri": "https://localhost:8080/"
        },
        "id": "uXCdzCcThaGM",
        "outputId": "6dcb3062-517c-4d75-a9eb-f70f5ec80ced"
      },
      "execution_count": 52,
      "outputs": [
        {
          "output_type": "stream",
          "name": "stdout",
          "text": [
            "R-squared (R2) score (Decision Tree): 0.9999910343671043\n",
            "Mean Absolute Error (MAE) (Decision Tree): 0.03423645320197044\n",
            "Root Mean Squared Error (RMSE) (Decision Tree): 0.3690621852096529\n"
          ]
        },
        {
          "output_type": "stream",
          "name": "stderr",
          "text": [
            "/usr/local/lib/python3.10/dist-packages/sklearn/metrics/_regression.py:483: FutureWarning: 'squared' is deprecated in version 1.4 and will be removed in 1.6. To calculate the root mean squared error, use the function'root_mean_squared_error'.\n",
            "  warnings.warn(\n"
          ]
        }
      ]
    },
    {
      "cell_type": "code",
      "source": [
        "# Now you can evaluate the performance of the Decision Tree model by calculating the mean squared error\n",
        "mse_decision_tree = mean_squared_error(y_val_imputed, y_pred_decision_tree_subset)\n",
        "print(\"Mean Squared Error (Decision Tree):\", mse_decision_tree)"
      ],
      "metadata": {
        "colab": {
          "base_uri": "https://localhost:8080/"
        },
        "id": "vJ2cadSIiLio",
        "outputId": "3387959e-6118-4dfb-c549-3851ab24b693"
      },
      "execution_count": 53,
      "outputs": [
        {
          "output_type": "stream",
          "name": "stdout",
          "text": [
            "Mean Squared Error (Decision Tree): 0.13620689655172413\n"
          ]
        }
      ]
    },
    {
      "cell_type": "code",
      "source": [
        "print(\"Shape of y_val_imputed:\", y_val_imputed.shape)\n",
        "print(\"Shape of y_pred_xgb_subset:\", y_pred_xgb_subset.shape)\n",
        "\n",
        "\n"
      ],
      "metadata": {
        "colab": {
          "base_uri": "https://localhost:8080/"
        },
        "id": "Voa94UB6vns6",
        "outputId": "206a53eb-5b0d-436c-a0ef-777e96147224"
      },
      "execution_count": 61,
      "outputs": [
        {
          "output_type": "stream",
          "name": "stdout",
          "text": [
            "Shape of y_val_imputed: (4060,)\n",
            "Shape of y_pred_xgb_subset: (4060,)\n"
          ]
        }
      ]
    },
    {
      "cell_type": "code",
      "source": [
        "# Install XGBoost if you haven't already\n",
        "# !pip install xgboost\n",
        "\n",
        "from sklearn.metrics import mean_squared_error\n",
        "\n",
        "# Import necessary modules\n",
        "import xgboost as xgb_regressor\n",
        "from sklearn.metrics import mean_squared_error\n",
        "\n",
        "\n",
        "X_train_preprocessed_subset = X_train_preprocessed[:len(y_train_imputed)]\n",
        "\n",
        "# Fit the model on the training data\n",
        "xgb_regressor.fit(X_train_preprocessed_subset, y_train_imputed)\n",
        "\n",
        "# Make predictions on the validation data\n",
        "y_pred_xgb = xgb_regressor.predict(X_train_preprocessed_subset)\n",
        "\n",
        "# Evaluate the model's performance\n",
        "mse_xgb = mean_squared_error(y_val_imputed, y_pred_xgb_subset)\n",
        "print(\"Mean Squared Error (XGBoost):\", mse_xgb)\n"
      ],
      "metadata": {
        "colab": {
          "base_uri": "https://localhost:8080/"
        },
        "id": "90PgswNsvFCk",
        "outputId": "fdaf0698-1ecd-41a7-a568-cd27ab0fef34"
      },
      "execution_count": 63,
      "outputs": [
        {
          "output_type": "stream",
          "name": "stdout",
          "text": [
            "Mean Squared Error (XGBoost): 32008.33136893449\n"
          ]
        }
      ]
    },
    {
      "cell_type": "code",
      "source": [
        "from sklearn.metrics import r2_score, mean_absolute_error, mean_squared_error\n",
        "\n",
        "# Calculate R-squared (R2) score\n",
        "r2_xgb = r2_score(y_val_imputed, y_pred_xgb_subset)\n",
        "print(\"R-squared (R2) score (XGBoost):\", r2_xgb)\n",
        "\n",
        "# Calculate Mean Absolute Error (MAE)\n",
        "mae_xgb = mean_absolute_error(y_val_imputed, y_pred_xgb_subset)\n",
        "print(\"Mean Absolute Error (MAE) (XGBoost):\", mae_xgb)\n",
        "\n",
        "# Calculate Root Mean Squared Error (RMSE)\n",
        "rmse_xgb = mean_squared_error(y_val_imputed, y_pred_xgb_subset, squared=False)\n",
        "print(\"Root Mean Squared Error (RMSE) (XGBoost):\", rmse_xgb)\n"
      ],
      "metadata": {
        "colab": {
          "base_uri": "https://localhost:8080/"
        },
        "id": "nddP26Cuwizn",
        "outputId": "6eec52f4-478e-4293-9f3f-34b0572ed18c"
      },
      "execution_count": 64,
      "outputs": [
        {
          "output_type": "stream",
          "name": "stdout",
          "text": [
            "R-squared (R2) score (XGBoost): -1.1069046863380119\n",
            "Mean Absolute Error (MAE) (XGBoost): 118.97399168061506\n",
            "Root Mean Squared Error (RMSE) (XGBoost): 178.9087235685686\n"
          ]
        },
        {
          "output_type": "stream",
          "name": "stderr",
          "text": [
            "/usr/local/lib/python3.10/dist-packages/sklearn/metrics/_regression.py:483: FutureWarning: 'squared' is deprecated in version 1.4 and will be removed in 1.6. To calculate the root mean squared error, use the function'root_mean_squared_error'.\n",
            "  warnings.warn(\n"
          ]
        }
      ]
    },
    {
      "cell_type": "code",
      "source": [
        "linear_reg_model.fit(X_train_preprocessed_subset , y_train_imputed)\n",
        "\n",
        "naive_bayes_model.fit(X_train_preprocessed_subset, y_train_imputed)\n",
        "\n",
        "decision_tree_model.fit(X_train_preprocessed_subset, y_train_imputed)\n",
        "\n",
        "xgb_regressor.fit(X_train_preprocessed_subset, y_train_imputed)\n"
      ],
      "metadata": {
        "id": "o2bGPARa_8_B"
      },
      "execution_count": null,
      "outputs": []
    }
  ]
}